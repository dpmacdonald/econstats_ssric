{
 "cells": [
  {
   "cell_type": "markdown",
   "id": "91cf91fc",
   "metadata": {},
   "source": [
    "# 1. Introduction to data visualization in Python, Part 2: Time series data\n",
    "\n",
    "Welcome to the SSRIC Instructional Modules for the project, \"Teaching Statistics and Economic Data Analysis in Python with Jupyter Notebooks\", by Daniel MacDonald, Associate Professor and Chair, Economics Department, CSU San Bernardino. These were written in Summer 2023.\n",
    "\n",
    "Most of the modules draw extensively on Kevin Sheppard's e-book, *Introduction to Python for Econometrics, Statistics, and Data Analysis*, available here: https://bashtage.github.io/kevinsheppard.com/files/teaching/python/notes/python_introduction_2021.pdf. \n",
    "\n",
    "Rather than begin instruction in Python through the core tools of computer programming (such as conditions, loops, and functions), Sheppard begins with Python's major \"containers\", or data structures. Through practice, I have learned that this is an effective method for teaching Python to economics majors.\n",
    "\n",
    "The learning objectives of this set of Instructional Modules are as follows. By the end of these modules, students will be able to...\n",
    "\n",
    "1. Create data structures in Python based on economic data\n",
    "1. Summarize the statistical properties of economic data (median, mean, max, min, correlation) using Python\n",
    "1. Create and manage economic data: create new columns and rows, merge and append, and import data from .csv and .xlsx files into Python\n",
    "1. Visualize economic data using line and scatterplots\n",
    "\n",
    "The objectives/content of Module 7 are as follows. Students will be able to...\n",
    "\n",
    "1. Construct datetime objects for the analysis of time series data\n",
    "1. Plot a time series data structure\n",
    "1. Create time series DataFrame for a particular area of interest"
   ]
  },
  {
   "cell_type": "code",
   "execution_count": null,
   "id": "4382f1e2",
   "metadata": {},
   "outputs": [],
   "source": [
    "import pandas as pd"
   ]
  },
  {
   "cell_type": "markdown",
   "id": "1ea8cde1",
   "metadata": {},
   "source": [
    "# 2. Housing data\n",
    "\n",
    "Housing is one of the most-watched sectors of the economy, especially in California. A lot of housing market analysis is about discerning trends in things like prices and inventory and making projections. Thus, time series methods are especially suitable to the topic. \n",
    "\n",
    "In this section, you will learn how to plot monthly housing data in Pandas. After seeing how it works at a basic level, we will discuss what happens when you don't have a \"date\" variable readily available. In the final section, you will generate your own time series data plots. \n",
    "\n",
    "Notice that housing data are in the `module 7 data.xlsx` file, but they are in the `housing_data` worksheet. **So, we need to specify the `sheet_name` option**:"
   ]
  },
  {
   "cell_type": "code",
   "execution_count": null,
   "id": "63df1f5e",
   "metadata": {},
   "outputs": [],
   "source": [
    "df=pd.read_excel('module 7 data.xlsx', sheet_name='housing_data')"
   ]
  },
  {
   "cell_type": "code",
   "execution_count": null,
   "id": "4ef053d9",
   "metadata": {},
   "outputs": [],
   "source": [
    "print(df.columns)"
   ]
  },
  {
   "cell_type": "markdown",
   "id": "4036cf12",
   "metadata": {},
   "source": [
    "## 2.1 About the data\n",
    "\n",
    "Data come from the California Association of Realtors (CAR) and can be found, freely accessible, here: https://www.car.org/marketdata/data/housingdata. \n",
    "\n",
    "The CAR updates these data monthly. They are a great source for tracking prices and inventory.\n",
    "\n",
    "The data are straightforward to plot: simply set the index to `date` and plot the column. Notice that **the .plot() fields are all set as blank**; this is done so that Pandas assumes that your index is the x-axis (i.e., the \"date\" column) and plots your column of interest accordingly:"
   ]
  },
  {
   "cell_type": "code",
   "execution_count": null,
   "id": "22122408",
   "metadata": {},
   "outputs": [],
   "source": [
    "df.set_index('date', inplace=True)"
   ]
  },
  {
   "cell_type": "code",
   "execution_count": null,
   "id": "4941065c",
   "metadata": {},
   "outputs": [],
   "source": [
    "df['LA Metro'].plot()"
   ]
  },
  {
   "cell_type": "markdown",
   "id": "05452869",
   "metadata": {},
   "source": [
    "# 3. Employment data\n",
    "\n",
    "The `module 7 data.xlsx` file contains metro-area employment data available via the BLS, here: https://www.bls.gov/sae/data/. The employment data are located in the worksheet titled \"jobs_data\". Jobs are recorded in 1000s (e.g., a reading of 300 means 300,000 jobs, and so on).\n",
    "\n",
    "Jobs data are for major areas in California. For purposes of instruction, this module will focus on the Los Angeles metro area jobs data. \n",
    "\n",
    "We import these data by referring to the Excel sheet *and* the worksheet in which the data are contained. We then quickly print the data to see what we're working with:"
   ]
  },
  {
   "cell_type": "code",
   "execution_count": null,
   "id": "0f8abaef",
   "metadata": {},
   "outputs": [],
   "source": [
    "df=pd.read_excel('module 7 data.xlsx', sheet_name='jobs_data')\n",
    "print(df.columns) #\"ie\" means \"Inland Empire\""
   ]
  },
  {
   "cell_type": "code",
   "execution_count": null,
   "id": "d95e9693",
   "metadata": {},
   "outputs": [],
   "source": [
    "print(df)"
   ]
  },
  {
   "cell_type": "markdown",
   "id": "3ec68d6b",
   "metadata": {},
   "source": [
    "A few things to note about the DataFrame: \n",
    "\n",
    "1. Notice the \"Series ID\" column, which is included just to give you a sense of the data's structure (we won't do anything with this column).\n",
    "1. Notice the \"Year\" and \"Period\" (which is really month) are included in separate columns. If we wanted to plot these data, we wouldn't be able to have a nice \"date\" x-axis to refer to, like we did above.\n",
    "\n",
    "Aside from these two points, it's a relatively simple dataset. If we want to plot the data, we will need to do a bit of work:"
   ]
  },
  {
   "cell_type": "code",
   "execution_count": null,
   "id": "eb318b90",
   "metadata": {},
   "outputs": [],
   "source": [
    "df['Month']=df['Period'].str[-2:]\n",
    "df['Month']=df['Month'].astype(int)\n",
    "print(df['Month'].value_counts())"
   ]
  },
  {
   "cell_type": "markdown",
   "id": "a5ed81bd",
   "metadata": {},
   "source": [
    "## 3.1 Comment on the above code block\n",
    "\n",
    "The above code creates a new column called \"Month\". We tell Python we want to treat \"Period\" as a `string` datatype and access the last two characters from each observation - this will pull the numeric information from each observation. Since Period has a predictable structure (\"M01\" is really \"M\" plus \"01\", and so on), pulling the numeric information is easy - essentially, the last two characters of any Period value are the numbers referring to the month in question.\n",
    "\n",
    "At this point, Python is still thinking about df['Month'] as a string type. That's why in the next line, we converted it to an integer using `.astype()`. \n",
    "\n",
    "The final step is to create our `date` column and set it as our index:"
   ]
  },
  {
   "cell_type": "code",
   "execution_count": null,
   "id": "3e72da3e",
   "metadata": {},
   "outputs": [],
   "source": [
    "df['date']=pd.to_datetime(df[['Year', 'Month']].assign(day=1))\n",
    "df.set_index('date', inplace=True)"
   ]
  },
  {
   "cell_type": "code",
   "execution_count": null,
   "id": "58e01517",
   "metadata": {},
   "outputs": [],
   "source": [
    "df['la_nonfarm jobs'].plot(xlabel='') \n",
    "\n",
    "#If you remove the \"xlabel='' option, the x-axis label will appear as 'date'\", which is redundant"
   ]
  },
  {
   "cell_type": "markdown",
   "id": "b6d4d696",
   "metadata": {},
   "source": [
    "# 4. Try it yourself: plot your local jobs and housing statistics\n",
    "\n",
    "Using the `module 7 data.xlsx` file and with the above syntax as your guideline, construct time series plots of the following:\n",
    "\n",
    "1. Your local employment data (by metro area - the closest one to you)\n",
    "1. Your local housing market median house price (by region - the region of California you live in or are closets to)\n",
    "\n",
    "*Note: not all metro area or regions are included! Choose the one closest to you and sorry if I've left yours out!*\n",
    "\n",
    "For both graphs, make sure to do the following:\n",
    "\n",
    "1. Label the y-axis correctly (remember your jobs data is reported as 1000s of jobs)\n",
    "1. Specify an informative title\n",
    "1. Change the color of your line\n",
    "\n",
    "**Suggestion**: Break this project up into several blocks of code: one for creating each DataFrame, and one for plotting each DataFrame"
   ]
  },
  {
   "cell_type": "code",
   "execution_count": null,
   "id": "17313e19",
   "metadata": {},
   "outputs": [],
   "source": [
    "# Try it yourself: write your code below (create housing DataFrame):\n",
    "\n"
   ]
  },
  {
   "cell_type": "code",
   "execution_count": null,
   "id": "bacabc26",
   "metadata": {},
   "outputs": [],
   "source": [
    "# Plot and customize housing data:\n",
    "\n"
   ]
  },
  {
   "cell_type": "code",
   "execution_count": null,
   "id": "84edbfee",
   "metadata": {},
   "outputs": [],
   "source": [
    "# Create employment DataFrame:\n",
    "\n"
   ]
  },
  {
   "cell_type": "code",
   "execution_count": null,
   "id": "39743828",
   "metadata": {},
   "outputs": [],
   "source": [
    "# Plot and customize employment data:\n",
    "\n"
   ]
  }
 ],
 "metadata": {
  "kernelspec": {
   "display_name": "Python 3 (ipykernel)",
   "language": "python",
   "name": "python3"
  },
  "language_info": {
   "codemirror_mode": {
    "name": "ipython",
    "version": 3
   },
   "file_extension": ".py",
   "mimetype": "text/x-python",
   "name": "python",
   "nbconvert_exporter": "python",
   "pygments_lexer": "ipython3",
   "version": "3.9.16"
  }
 },
 "nbformat": 4,
 "nbformat_minor": 5
}
