{
 "cells": [
  {
   "cell_type": "markdown",
   "id": "ed14e160",
   "metadata": {},
   "source": [
    "# 1. Introduction: Basic economic data structures in Python\n",
    "\n",
    "Welcome to the SSRIC Instructional Modules for the project, \"Teaching Statistics and Economic Data Analysis in Python with Jupyter Notebooks\", by Daniel MacDonald, Associate Professor and Chair, Economics Department, CSU San Bernardino. These were written in Summer 2023.\n",
    "\n",
    "Most of the modules draw extensively on Kevin Sheppard's e-book, *Introduction to Python for Econometrics, Statistics, and Data Analysis*, available here: https://bashtage.github.io/kevinsheppard.com/files/teaching/python/notes/python_introduction_2021.pdf. \n",
    "\n",
    "Rather than begin instruction in Python through the core tools of computer programming (such as conditions, loops, and functions), Sheppard begins with Python's major \"containers\", or data structures. Through practice, I have learned that this is an effective method for teaching Python to economics majors.\n",
    "\n",
    "The learning objectives of this set of Instructional Modules are as follows. By the end of these modules, students will be able to...\n",
    "\n",
    "1. Create data structures in Python based on economic data\n",
    "1. Summarize the statistical properties of economic data (median, mean, max, min, correlation) using Python\n",
    "1. Create and manage economic data: create new columns and rows, merge and append, and import data from .csv and .xlsx files into Python\n",
    "1. Visualize economic data using line and scatterplots\n",
    "\n",
    "The objectives/content of Module 1 are as follows. By the end of this module, students will be able to...\n",
    "\n",
    "1. Use basic data structures to build economic datasets\n",
    "1. Perform basic manipulations of data structures like add, remove, and extract elements\n",
    "1. Calculating basic statistics using the native Python data structures"
   ]
  },
  {
   "cell_type": "markdown",
   "id": "546b78f2",
   "metadata": {},
   "source": [
    "## 1.1 Data types: numeric, Boolean, and string\n",
    "\n",
    "Chapter 2 of Sheppard's book introduces you to the built-in data types, or containers, that Python has available. In terms of numeric data, for the purposes of this class, you have floats and integers: \n",
    "\n",
    "**Note: to run the code block below, click anywhere in it and then hold the \"Shift\" key and press \"Enter\" or \"Return\":**"
   ]
  },
  {
   "cell_type": "code",
   "execution_count": null,
   "id": "4c67813c",
   "metadata": {},
   "outputs": [],
   "source": [
    "x=-10.7 # A float \n",
    "y=1 # An integer"
   ]
  },
  {
   "cell_type": "code",
   "execution_count": null,
   "id": "a704da6a",
   "metadata": {},
   "outputs": [],
   "source": [
    "print('x: ', type(x), '\\ny: ', type(y))"
   ]
  },
  {
   "cell_type": "markdown",
   "id": "e2ae4c1a",
   "metadata": {},
   "source": [
    "The `print` function above is one of the most basic available to you. The **\\n** tells Python to do a carriage return before printing y. It's not necessary, but it makes the printed code look more readable. \n",
    "\n",
    "The `type` function returns the datatype or class of the variable you specify. It's highly recommend to often use `type()` to check on a data format.\n",
    "\n",
    "Another type of data structure is the Boolean, or true/false type:"
   ]
  },
  {
   "cell_type": "code",
   "execution_count": null,
   "id": "9e087094",
   "metadata": {},
   "outputs": [],
   "source": [
    "print(float == type(x))\n",
    "\n",
    "print(float == type(y))"
   ]
  },
  {
   "cell_type": "code",
   "execution_count": null,
   "id": "a0bd3e9f",
   "metadata": {},
   "outputs": [],
   "source": [
    "print(x > 0 and x<2)\n",
    "\n",
    "print(x < 0)\n",
    "\n",
    "print(x>0 and x>2)\n",
    "\n",
    "print(y>0 or y>2)"
   ]
  },
  {
   "cell_type": "markdown",
   "id": "1ab2f0e2",
   "metadata": {},
   "source": [
    "## 1.2 Try it yourself\n",
    "\n",
    "In the cell below, your task is to assign the numbers in 1-5 to different variables (Python data types) and check their type. In part 6, you will need to think creatively about a Boolean condition to return **True** or **False** based on the condition specified. Run the entire code in a single cell and correct for any errors. \n",
    "\n",
    "Use the following information, and call your variables whatever you want (for example, the first variable could be `avg_wage=28.03`):\n",
    "\n",
    "1. Average hourly wage in the Inland Empire: 28.03\n",
    "1. Unemployment rate in Orange County: 3.0\n",
    "1. Number of counties in Southern California: 10\n",
    "1. California Real GDP, Q3 2022 (trillions of dollars): 2.893\n",
    "1. California Real GDP, Q3 2021 (trillions of dollars): 2.895\n",
    "1. Check if California Real GDP declined between Q3 2021 and 2022 (hint: use a Boolean logic to evaluate whether Q3 2021 GDP was less than Q3 2022 GDP"
   ]
  },
  {
   "cell_type": "code",
   "execution_count": null,
   "id": "a1e9ef3a",
   "metadata": {},
   "outputs": [],
   "source": [
    "#Try it yourself: insert code below\n",
    "\n"
   ]
  },
  {
   "cell_type": "markdown",
   "id": "4e184a23",
   "metadata": {},
   "source": [
    "It might not be immediately obvious, but **Boolean data types are very important when working with economic data**, because they are built on different conditions that you might set for viewing/analyzing data, such as only analyzing positive data, or looking for data in a specific range (like >0 or >2 or whatever).\n",
    "\n",
    "## 1.3 String data types\n",
    "\n",
    "Another common data structure that has a lot of surprising economic applications is the string:"
   ]
  },
  {
   "cell_type": "code",
   "execution_count": null,
   "id": "d31228a6",
   "metadata": {},
   "outputs": [],
   "source": [
    "a='economics'\n",
    "b=\"sociology\"\n",
    "print(type(a))\n",
    "print(type(b))"
   ]
  },
  {
   "cell_type": "markdown",
   "id": "804552a5",
   "metadata": {},
   "source": [
    "You can do a lot with strings in Python. One of the first things you learn is that strings in Python are zero-indexed, so if you want to pull out the first character, you need to remember it has an index location of zero. You can access other characters in the string using this zero-indexing as a starting point:"
   ]
  },
  {
   "cell_type": "code",
   "execution_count": null,
   "id": "94d865ba",
   "metadata": {},
   "outputs": [],
   "source": [
    "print(a[0])\n",
    "print(a[3])\n",
    "print(a[0:4])\n",
    "print('Number of characters in {}: '.format(a), len(a))"
   ]
  },
  {
   "cell_type": "markdown",
   "id": "4d7f59da",
   "metadata": {},
   "source": [
    "Zero-indexing is tricky because as you can see in this example, the 3-index position is the fourth character. \n",
    "\n",
    "You should also notice that **when extracting a substring, the end of the extraction point (the \"4\" in \"0:4\" is located at one less of whatever number you specify as the end point**. So `a[0:4]` ends at the 4th character, 'n', not the fifth. These are quirks about Python programming that you'll just have to get used to! But also, this method assures you that you know the length of your resulting string: a[0:4] has 4-0 = 4 characters, and so on.\n",
    "\n",
    "It's hard to show examples now, but slicing strings is a very common task when doing programming with economic data. Here is a very simple example of how we might extract course number from some course lists: "
   ]
  },
  {
   "cell_type": "code",
   "execution_count": null,
   "id": "aaa2d159",
   "metadata": {},
   "outputs": [],
   "source": [
    "course1='Econ 3500'\n",
    "course2='Econ 4300'\n",
    "\n",
    "course1_number=course1[-4:]\n",
    "course2_number=course2[-4:]\n",
    "\n",
    "print(course1_number)\n",
    "print(course2_number)"
   ]
  },
  {
   "cell_type": "markdown",
   "id": "cf59fdeb",
   "metadata": {},
   "source": [
    "We will learn faster ways of doing this in later classes, but it is useful to know that negative values can be used as well: they start at the end of your string (which has location -1) and work backward from there (-2, -3, and so on)."
   ]
  },
  {
   "cell_type": "markdown",
   "id": "550791fb",
   "metadata": {},
   "source": [
    "## 1.4 Boolean variables applied to string data types\n",
    "\n",
    "You can use Booleans to check if certain characters, or groups of characters, exist in strings:"
   ]
  },
  {
   "cell_type": "code",
   "execution_count": null,
   "id": "4868ecd6",
   "metadata": {},
   "outputs": [],
   "source": [
    "print('e' not in 'economics')\n",
    "print('econ' in 'economics')\n",
    "print(a)\n",
    "print('e' in a)\n",
    "print('z' in a)"
   ]
  },
  {
   "cell_type": "markdown",
   "id": "446bcfb9",
   "metadata": {},
   "source": [
    "## 1.5 Try it yourself\n",
    "\n",
    "In a general state-county FIPS code, the state code is the first two numbers and county the last three.\n",
    "\n",
    "Take the following varaibles and extract the State or county FIPS for each one. For example, if the variable is `san_bernardino=\"06071\"` and you're asked to find the county FIPS code, create a new variable `sb_countyfips=sb[-3:]`"
   ]
  },
  {
   "cell_type": "code",
   "execution_count": null,
   "id": "9c8ed8a7",
   "metadata": {},
   "outputs": [],
   "source": [
    "orange_county='06059' #Extract county FIPS below:\n",
    "\n",
    "\n",
    "riverside_county='06065' #Extract county FIPS below:\n",
    "\n",
    "\n",
    "san_diego_county='06073' #Extract state FIPS below:\n",
    "\n",
    "\n",
    "los_angeles_msa='SMU063108400500000003' #Extract Metro code below (5 characters after '06'):\n",
    "\n",
    "\n",
    "ie_msa='SMU064014000500000003' #Extract Metro code below (5 characters after '06'):\n",
    "\n"
   ]
  },
  {
   "cell_type": "markdown",
   "id": "b2078355",
   "metadata": {},
   "source": [
    "## 1.6 Data types: lists\n",
    "\n",
    "Lists form the backbone of many of the economic data structures we will use in this course. The reason - as you will see in a moment - is that they look very much like arrays or columns of data that you might see in a spreadsheet. \n",
    "\n",
    "Lists are indexed just like strings and have many other useful properties:"
   ]
  },
  {
   "cell_type": "code",
   "execution_count": null,
   "id": "56297b74",
   "metadata": {},
   "outputs": [],
   "source": [
    "x = [1.0, 2.0, 5.0, 7.0, 8.0] \n",
    "print(x)\n",
    "print(type(x))"
   ]
  },
  {
   "cell_type": "code",
   "execution_count": null,
   "id": "efa8a0b2",
   "metadata": {},
   "outputs": [],
   "source": [
    "print(x[0])\n",
    "print(x[0:2])\n",
    "print(x[-1])\n",
    "print(x)\n",
    "print('x has {} elements'.format(len(x)))\n",
    "print('x has {} elements and the last element is {}'.format(len(x), x[-1]))\n",
    "print(1.0 in x)"
   ]
  },
  {
   "cell_type": "markdown",
   "id": "6e5a98fa",
   "metadata": {},
   "source": [
    "One thing you might notice about the above code, which I also did earlier, is this `.format()` technique. This is referred to as a `method` in Python because it does something to the object under question - in this case, formats the string by inserting something else into it, using {} to define the place to insert. \n",
    "\n",
    "All data structures have methods in Python. You can look up what you can do with an object *x* using `print(dir(x))`\n",
    "\n",
    "There are several useful methods for lists, such as `append` and `pop`, used below:"
   ]
  },
  {
   "cell_type": "code",
   "execution_count": null,
   "id": "1d632c25",
   "metadata": {},
   "outputs": [],
   "source": [
    "x = [1.0, 2.0, 5.0, 7.0, 8.0] \n",
    "\n",
    "print(dir(x))\n",
    "\n",
    "print(x)\n",
    "\n",
    "x.append(9.0)\n",
    "print(x)\n",
    "\n",
    "x.pop(-1)\n",
    "print(x)"
   ]
  },
  {
   "cell_type": "markdown",
   "id": "4c290342",
   "metadata": {},
   "source": [
    "# 2. More things to do with Python lists: methods, functions, and basic statistics\n",
    "\n",
    "In addition to **methods**, data structures have **functions** attached to them as well. I've already showed the `len` function which counts the number of characters/elements, but other functions exist as well:"
   ]
  },
  {
   "cell_type": "code",
   "execution_count": null,
   "id": "deb87462",
   "metadata": {},
   "outputs": [],
   "source": [
    "x = [11.0, 3.0, -2.0, -13.0, 6.0, 7.0, 8.0, 1.0, -3.0] \n",
    "\n",
    "print('Sum of values in x: ', sum(x)) #Adds up the elements of x\n",
    "\n",
    "x_mean=sum(x)/len(x)\n",
    "print(x_mean, sum(x)/len(x))\n",
    "\n",
    "print('The mean of x is {}'.format(x_mean))"
   ]
  },
  {
   "cell_type": "code",
   "execution_count": null,
   "id": "fd7507d1",
   "metadata": {},
   "outputs": [],
   "source": [
    "x.sort() #permanently sorts the list!\n",
    "print(x)\n",
    "\n",
    "x_min=x[0]\n",
    "x_max=x[-1]\n",
    "x_median=x[len(x)//2]\n",
    "\n",
    "print(x_min, x_max, x_median)"
   ]
  },
  {
   "cell_type": "markdown",
   "id": "046a748e",
   "metadata": {},
   "source": [
    "In the above code, `//` invokes a modular operation and discards the remainder. The list x has 9 elements, and 9 divided by 2 is 4 (remainder 1). So, x_median reports `x[4]` (which equals 3)."
   ]
  },
  {
   "cell_type": "markdown",
   "id": "a7ae20b5",
   "metadata": {},
   "source": [
    "## 2.1 Try it yourself: calculate the average unemployment rate in Southern California\n",
    "\n",
    "Consider the unemployment statistics below and do the following with them:\n",
    "\n",
    "1. Create a list out of them (just the unemployment rates - don't include separate lists for the FIPS or county) \n",
    "1. Check that your object is in fact a list (using `type`)\n",
    "1. Calculate the maximum and minimum of the list and create a new variable defining them\n",
    "1. Calculate the average of the list\n",
    "1. Calculate the median of the list (hint: the median of a variable with an even number of observations is the average of the n - n/2 and n - n/2 + 1 observations)\n",
    "\n",
    "06037 Los Angeles: 4.5 <br>\n",
    "06065 Riverside: 4.2 <br>\n",
    "06071 San Bernardino: 4.1 <br>\n",
    "06079 San Luis Obispo: 2.8 <br>\n",
    "06083 Santa Barbara: 3.2 <br>\n",
    "06111 Ventura: 3.7 <br>\n",
    "06029 Kern: 6.8 <br>\n",
    "06059 Orange: 3.0 <br>\n",
    "06073 San Diego: 3.3 <br>\n",
    "06025 Imperial: 16.7"
   ]
  },
  {
   "cell_type": "code",
   "execution_count": null,
   "id": "5933d909",
   "metadata": {},
   "outputs": [],
   "source": [
    "#Try it yourself... write your code below:\n",
    "\n"
   ]
  },
  {
   "cell_type": "markdown",
   "id": "6f4d9a4d",
   "metadata": {},
   "source": [
    "## 3. The last two data types: tuples, dictionaries, and their statistical applications\n",
    "\n",
    "The last two important data structures for economics in Python are tuples and dictionaries.\n",
    "First, the tuple:"
   ]
  },
  {
   "cell_type": "code",
   "execution_count": null,
   "id": "e366308f",
   "metadata": {},
   "outputs": [],
   "source": [
    "y=(-4.0, -1.0, 3.0, 5.0, 5.0)\n",
    "print(y)\n",
    "print(type(y))"
   ]
  },
  {
   "cell_type": "markdown",
   "id": "6daeab97",
   "metadata": {},
   "source": [
    "**Tuples are immutable**, which means you cannot alter them like lists. You still have some useful methods, but in general, this data container is seen as more restrictive and therefore not ideal in many cases for holding data."
   ]
  },
  {
   "cell_type": "code",
   "execution_count": null,
   "id": "8b635142",
   "metadata": {},
   "outputs": [],
   "source": [
    "print(len(y))\n",
    "print(dir(y)) # You'll see that only .count() and .index() are methods\n",
    "print(y.count(5.0)) # .count() is a method that returns the number of times that the specified value occurs in the tuple\n",
    "print(y.index(-1.0)) # .index() returns the index of the first instance of the specified value"
   ]
  },
  {
   "cell_type": "markdown",
   "id": "3289ed59",
   "metadata": {},
   "source": [
    "**Dictionaries** are like lists (and, indeed, often *contain* lists), except the index can be anything, including a string:"
   ]
  },
  {
   "cell_type": "code",
   "execution_count": null,
   "id": "6081a768",
   "metadata": {},
   "outputs": [],
   "source": [
    "z={'a': [1.0, 4.0, 3.0], 'b': [-2.0, -1.0, 3.5]}\n",
    "print(z)\n",
    "print(type(z))"
   ]
  },
  {
   "cell_type": "markdown",
   "id": "8da86223",
   "metadata": {},
   "source": [
    "You'll notice in the above example that **dictionaries have the potential to look very similar to a spreadsheet**, with a key as a column name and the ensuing list as the values of that column."
   ]
  },
  {
   "cell_type": "code",
   "execution_count": null,
   "id": "c55a6c69",
   "metadata": {},
   "outputs": [],
   "source": [
    "print(z['a'])\n",
    "print('a' in z.keys())\n",
    "print(1.0 in z['a'])\n",
    "print(1.0 in z['b'])\n",
    "print(dir(z))"
   ]
  },
  {
   "cell_type": "markdown",
   "id": "dade2691",
   "metadata": {},
   "source": [
    "## 3.1 Example\n",
    "\n",
    "Now that we have seen the main kinds of data structures in Python, let's take an example:"
   ]
  },
  {
   "cell_type": "code",
   "execution_count": null,
   "id": "a3c97533",
   "metadata": {},
   "outputs": [],
   "source": [
    "u_rate={'socal_counties': [4.5, 4.2, 4.1, 2.8, 3.2, 3.7, 6.8, 3.0, 3.3, 16.7],\n",
    "                    'socal_metros': [4.2, 6.8, 16.7, 6.9, 4.1, 3.3, 2.8, 3.7]}\n",
    "print(type(u_rate)) # Checks to make sure we have dictionary\n",
    "print(u_rate) # prints it out so we can check for accuracy"
   ]
  },
  {
   "cell_type": "code",
   "execution_count": null,
   "id": "48dd40a9",
   "metadata": {},
   "outputs": [],
   "source": [
    "print(u_rate['socal_counties'])\n",
    "print(u_rate['socal_metros'])"
   ]
  },
  {
   "cell_type": "code",
   "execution_count": null,
   "id": "46217c4e",
   "metadata": {},
   "outputs": [],
   "source": [
    "u_rate['socal_counties'].sort()\n",
    "max_socal_counties=u_rate['socal_counties'][-1]\n",
    "print(max_socal_counties)"
   ]
  },
  {
   "cell_type": "code",
   "execution_count": null,
   "id": "6f46dfa5",
   "metadata": {},
   "outputs": [],
   "source": [
    "print('Average county unemployment rate: ', sum(u_rate['socal_counties'])/len(u_rate['socal_counties']))"
   ]
  },
  {
   "cell_type": "code",
   "execution_count": null,
   "id": "cbc64ba2",
   "metadata": {},
   "outputs": [],
   "source": [
    "print('Average metro unemployment rate', sum(u_rate['socal_metros'])/len(u_rate['socal_metros']))"
   ]
  },
  {
   "cell_type": "markdown",
   "id": "acfc2264",
   "metadata": {},
   "source": [
    "## 3.2 Try it yourself\n",
    "\n",
    "With the data listed below, do the following: \n",
    "\n",
    "1. Create a dictionary that compares unemployment in coastal counties to inland counties in Southern California\n",
    "1. Sort the data\n",
    "1. Calculate and report the average, minimum, and maximum in each group \n",
    "\n",
    "To set up the dictionary, create two keys: `unemployment_socal={'coastal': [], 'inland': []}` and enter the data accordingly\n",
    "\n",
    "Los Angeles: 4.5 [COASTAL] <br> \n",
    "Riverside: 4.2 [INLAND] <br>\n",
    "San Bernardino: 4.1 [INLAND] <br>\n",
    "San Luis Obispo: 2.8 [COASTAL] <br>\n",
    "Santa Barbara: 3.2 [COASTAL] <br>\n",
    "Ventura: 3.7 [COASTAL] <br>\n",
    "Kern: 6.8 [INLAND] <br>\n",
    "Orange: 3.0 [COASTAL] <br>\n",
    "San Diego: 3.3 [COASTAL] <br>\n",
    "Imperial: 16.7 [INLAND]"
   ]
  },
  {
   "cell_type": "code",
   "execution_count": null,
   "id": "cb53bd39",
   "metadata": {},
   "outputs": [],
   "source": [
    "#Try it yourself...type your code below:\n",
    "\n",
    "\n"
   ]
  },
  {
   "cell_type": "markdown",
   "id": "fc58c11a",
   "metadata": {},
   "source": [
    "## Summary\n",
    "\n",
    "Some of the code that we wrote appears cumbersome, but that's because **we're working with the very basic data structures of Python**. \n",
    "\n",
    "Soon we will learn more advanced data structures and tools which allow the quick computation of mean, standard deviation, correlation coefficient, scatter plots, and other summary statistics. "
   ]
  }
 ],
 "metadata": {
  "kernelspec": {
   "display_name": "Python 3 (ipykernel)",
   "language": "python",
   "name": "python3"
  },
  "language_info": {
   "codemirror_mode": {
    "name": "ipython",
    "version": 3
   },
   "file_extension": ".py",
   "mimetype": "text/x-python",
   "name": "python",
   "nbconvert_exporter": "python",
   "pygments_lexer": "ipython3",
   "version": "3.9.16"
  }
 },
 "nbformat": 4,
 "nbformat_minor": 5
}
