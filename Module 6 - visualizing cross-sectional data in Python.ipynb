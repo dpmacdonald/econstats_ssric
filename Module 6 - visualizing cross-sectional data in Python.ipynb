{
 "cells": [
  {
   "cell_type": "markdown",
   "id": "73c8c1ed",
   "metadata": {},
   "source": [
    "# 1. Introduction to data visualization in Python, Part 1: Cross-sectional data\n",
    "\n",
    "Welcome to the SSRIC Instructional Modules for the project, \"Teaching Statistics and Economic Data Analysis in Python with Jupyter Notebooks\", by Daniel MacDonald, Associate Professor and Chair, Economics Department, CSU San Bernardino. These were written in Summer 2023.\n",
    "\n",
    "Most of the modules draw extensively on Kevin Sheppard's e-book, *Introduction to Python for Econometrics, Statistics, and Data Analysis*, available here: https://bashtage.github.io/kevinsheppard.com/files/teaching/python/notes/python_introduction_2021.pdf. \n",
    "\n",
    "Rather than begin instruction in Python through the core tools of computer programming (such as conditions, loops, and functions), Sheppard begins with Python's major \"containers\", or data structures. Through practice, I have learned that this is an effective method for teaching Python to economics majors.\n",
    "\n",
    "The learning objectives of this set of Instructional Modules are as follows. By the end of these modules, students will be able to...\n",
    "\n",
    "1. Create data structures in Python based on economic data\n",
    "1. Summarize the statistical properties of economic data (median, mean, max, min, correlation) using Python\n",
    "1. Create and manage economic data: create new columns and rows, merge and append, and import data from .csv and .xlsx files into Python\n",
    "1. Visualize economic data using line and scatterplots\n",
    "\n",
    "The objectives/content of Module 6 (this module) are as follows. By the end of this module, students will be able to...\n",
    "\n",
    "1. Read correlation coefficient tables of economic relationships\n",
    "1. Use online Pandas documentation files to learn more about options for functions and methods\n",
    "1. Create line charts and scatterplots of economic data using Pandas' `.plot()`"
   ]
  },
  {
   "cell_type": "code",
   "execution_count": null,
   "id": "4d40a4a7",
   "metadata": {},
   "outputs": [],
   "source": [
    "import pandas as pd"
   ]
  },
  {
   "cell_type": "markdown",
   "id": "2fbfde79",
   "metadata": {},
   "source": [
    "# 2. Project 1: educational attainment, median income, and house prices\n",
    "\n",
    "We examine the relationship between educational attainment, median income, and house prices. Economics can be used to hypothesize the general predictions between these variables. \n",
    "\n",
    "This project gives you a chance to learn more about how to view Pandas DataFrames and read coefficient tables using a simple economic framework.\n",
    "\n",
    "The data come from the 5-year estimates of the American Community Survey (2021), which can be found here: https://data.census.gov/. I searched for county-level data (excluding Puerto Rico) from tables S1501, S1903, and DP04 and collected data for three variables and placed them into an Excel file:\n",
    "\n",
    "1. % of population 25 years or older with a Bachelor's Degree or higher\n",
    "1. Median value of home\n",
    "1. Median household income\n",
    "\n",
    "We will import the Excel file as a Pandas DataFrame, describe it, and then look at the correlation between the variables."
   ]
  },
  {
   "cell_type": "code",
   "execution_count": null,
   "id": "9bb9d44e",
   "metadata": {},
   "outputs": [],
   "source": [
    "df=pd.read_excel('module 6 data_acs.xlsx')"
   ]
  },
  {
   "cell_type": "code",
   "execution_count": null,
   "id": "d04fa53b",
   "metadata": {},
   "outputs": [],
   "source": [
    "print(df.describe())"
   ]
  },
  {
   "cell_type": "code",
   "execution_count": null,
   "id": "9ff133c8",
   "metadata": {},
   "outputs": [],
   "source": [
    "print(df[['bachelors_higher', 'median_income']].corr())"
   ]
  },
  {
   "cell_type": "markdown",
   "id": "54c7160a",
   "metadata": {},
   "source": [
    "## 2.1 How to read correlation coefficient tables in Python\n",
    "\n",
    "The **correlation coefficients are reported in a DataFrame**, with the index and columns specified according to whatever variables you asked Python to correlate. To read it, consider a unique (row, column) pair of variables: the number reported is the correlation coefficient between the row and column variables.\n",
    "\n",
    "In the above table, the correlation between `bachelors_higher` and `median_income` is 0.715. Of course, the correlation between `median_income` and `bachelors_higher` is the same: 0.715, and the correlation of each variable with itself is 1.\n",
    "\n",
    "The table is really just a Pandas DataFrame (you could check its `type` to make sure), so you could access specific elements of the DataFrame using index locations `.iloc[]`:"
   ]
  },
  {
   "cell_type": "code",
   "execution_count": null,
   "id": "72af5631",
   "metadata": {},
   "outputs": [],
   "source": [
    "print(df[['bachelors_higher', 'median_income']].corr().iloc[1,0]) \n",
    "print(df[['bachelors_higher', 'median_income']].corr().iloc[0,1]) "
   ]
  },
  {
   "cell_type": "markdown",
   "id": "3a383b0b",
   "metadata": {},
   "source": [
    "## 2.2 Producing scatterplots\n",
    "\n",
    "Many heavy Python users will tell you to use `matplotlib` when you want to produce a visualization of your data. However, Pandas has its own ways of producing quick plots that can handle a decent level of customization. \n",
    "\n",
    "You need to use `df.plot()`, specify the x and y axes, and the plot kind (line, bar, scatter, etc.). \n",
    "\n",
    "Aside from that, you can add labels and titles and other elements according to your needs - like adding an informative x-axis label (below)."
   ]
  },
  {
   "cell_type": "code",
   "execution_count": null,
   "id": "f44edd9b",
   "metadata": {},
   "outputs": [],
   "source": [
    "df.plot(x='bachelors_higher', y='median_income', kind='scatter', xlabel='% Bachelors degree or higher')"
   ]
  },
  {
   "cell_type": "markdown",
   "id": "c872e84f",
   "metadata": {},
   "source": [
    "## 2.3 Try it yourself: Correlations and scatterplots in Python\n",
    "\n",
    "Using the above DataFrame, produce correlation table and scatterplot for the relationship between **median household income** and **median home value**. \n",
    "\n",
    "See the documentation on Pandas' `plot` here, where you will see the different customization options: https://pandas.pydata.org/docs/reference/api/pandas.DataFrame.plot.html\n",
    "\n",
    "1. First produce a correlation table for the correlation between median household income and median home value\n",
    "1. Based on the correlation coefficient, describe the degree of correlation\n",
    "1. Use the documentation above to produce a scatterplot with the following elements:\n",
    "    1. Informative title\n",
    "    1. Color of scatter points (choose something other than the default blue)\n",
    "    1. Informative label x and y axes (something other than defaul column names)"
   ]
  },
  {
   "cell_type": "code",
   "execution_count": null,
   "id": "c74b5d5e",
   "metadata": {},
   "outputs": [],
   "source": [
    "# Try it yourself. Write your response to 1-3 below:\n",
    "\n"
   ]
  },
  {
   "cell_type": "markdown",
   "id": "d9f6bbd2",
   "metadata": {},
   "source": [
    "# 3. Project 2: age, education, and hourly wage\n",
    "\n",
    "Economists predict that a person's earnings are correlated with both their education and their age. While the relationship between *education* and wages is strictly linear, the relationship between *age* and wages is more complicated - with wages first rising with age, but then at some point, falling with wage. \n",
    "\n",
    "We explore these hypotheses using microdata from the BLS' **Current Population Survey for the year 2022**. A lot of the initial DataFrame manipulation is too advanced, but **the emphasis of this project is on the visualization**, so please do not get caught up in the details of the data slicing and `groupby()` methods below:"
   ]
  },
  {
   "cell_type": "code",
   "execution_count": null,
   "id": "fc1fbd12",
   "metadata": {},
   "outputs": [],
   "source": [
    "df=pd.read_csv('module 6 data_cps.csv')\n",
    "df.columns=df.columns.str.lower() # Convert columns to lower-case\n",
    "df=df[df['hourwage']<999] # Exclude top-coded data\n",
    "df=df[(df['age']>=25) & (df['age']<=65)] #Restrict age to 25-65 years old"
   ]
  },
  {
   "cell_type": "code",
   "execution_count": null,
   "id": "b4d39c4b",
   "metadata": {},
   "outputs": [],
   "source": [
    "df_grouped=df[['age', 'hourwage']].groupby('age').mean() # \"Collapses\" data by age and calculates the mean in each \"age bin\""
   ]
  },
  {
   "cell_type": "code",
   "execution_count": null,
   "id": "b4b97064",
   "metadata": {},
   "outputs": [],
   "source": [
    "print(df_grouped)"
   ]
  },
  {
   "cell_type": "code",
   "execution_count": null,
   "id": "00200de3",
   "metadata": {},
   "outputs": [],
   "source": [
    "df_grouped.plot(y='hourwage', kind='line') # This is the syntax to focus on "
   ]
  },
  {
   "cell_type": "markdown",
   "id": "0ea431b8",
   "metadata": {},
   "source": [
    "## 3.1 Summary: how age and earnings are related\n",
    "\n",
    "The code calculates the average hourly earnings for each reported age in the CPS and plots it as a line graph.\n",
    "\n",
    "The above line graph shows that earnings first rise with age and then level off, before declining somewhat into one's 50s and 60s. **This is a well-known relationship in labor economics**. Labor economists argue that earnings are closely linked to a worker's productivity and labor demand, which can help explain these findings."
   ]
  },
  {
   "cell_type": "markdown",
   "id": "6a0fafde",
   "metadata": {},
   "source": [
    "## 3.2 Try it yourself\n",
    "\n",
    "Try it yourself: using the CPS data manipulation below which creates a new `df_grouped` DataFrame, plot earnings by *education*.\n",
    "\n",
    "The `groupby()` performs a similar \"collapse\" feature as the one above with age, but it focuses on select educational categories. Again, the emphasis is on the plot technique and not the data manipulation process.\n",
    "\n",
    "Perform the following tasks on the `df_grouped` DataFrame created below:\n",
    "\n",
    "1. Plot the relationship between education and hourly wage\n",
    "1. Create a meaningful title for your plot\n",
    "1. Label x and y axes of your plot\n",
    "1. Change the color of your line to something different from the default color"
   ]
  },
  {
   "cell_type": "code",
   "execution_count": null,
   "id": "eeba6403",
   "metadata": {},
   "outputs": [],
   "source": [
    "df=df[df['educ'].isin([10, 20, 30, 40, 50, 60, 70, 71, 73, 91, 92, 111, 123, 124, 125])]\n",
    "df_grouped=df[['educ', 'hourwage']].groupby('educ').mean()"
   ]
  },
  {
   "cell_type": "code",
   "execution_count": null,
   "id": "6ecbdb95",
   "metadata": {},
   "outputs": [],
   "source": [
    "print(df_grouped)"
   ]
  },
  {
   "cell_type": "code",
   "execution_count": null,
   "id": "f032dbe9",
   "metadata": {},
   "outputs": [],
   "source": [
    "# Write your code below, referring to the `df_grouped` DataFrame you just created:\n",
    "\n"
   ]
  }
 ],
 "metadata": {
  "kernelspec": {
   "display_name": "Python 3 (ipykernel)",
   "language": "python",
   "name": "python3"
  },
  "language_info": {
   "codemirror_mode": {
    "name": "ipython",
    "version": 3
   },
   "file_extension": ".py",
   "mimetype": "text/x-python",
   "name": "python",
   "nbconvert_exporter": "python",
   "pygments_lexer": "ipython3",
   "version": "3.9.16"
  }
 },
 "nbformat": 4,
 "nbformat_minor": 5
}
