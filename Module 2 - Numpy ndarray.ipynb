{
 "cells": [
  {
   "cell_type": "markdown",
   "id": "6368edd7",
   "metadata": {},
   "source": [
    "# 1. Introduction: The Numpy ndarray\n",
    "\n",
    "Welcome to the SSRIC Instructional Modules for the project, \"Teaching Statistics and Economic Data Analysis in Python with Jupyter Notebooks\", by Daniel MacDonald, Associate Professor and Chair, Economics Department, CSU San Bernardino. These were written in Summer 2023.\n",
    "\n",
    "Most of the modules draw extensively on Kevin Sheppard's e-book, *Introduction to Python for Econometrics, Statistics, and Data Analysis*, available here: https://bashtage.github.io/kevinsheppard.com/files/teaching/python/notes/python_introduction_2021.pdf. \n",
    "\n",
    "Rather than begin instruction in Python through the core tools of computer programming (such as conditions, loops, and functions), Sheppard begins with Python's major \"containers\", or data structures. Through practice, I have learned that this is an effective method for teaching Python to economics majors. \n",
    "\n",
    "The learning objectives of this set of Instructional Modules are as follows. By the end of these modules, students will be able to...\n",
    "\n",
    "1. Create data structures in Python based on economic data\n",
    "1. Summarize the statistical properties of economic data (median, mean, max, min, correlation) using Python\n",
    "1. Create and manage economic data: create new columns and rows, merge and append, and import data from .csv and .xlsx files into Python\n",
    "1. Visualize economic data using line and scatterplots\n",
    "\n",
    "The objectives/content of Module 2 are as follows. By the end of this module, students will be able to...\n",
    "\n",
    "1. Importing libraries into Python for advanced data analysis\n",
    "1. Perform basic data manipulation operations on the Numpy `ndarray` datatype\n",
    "1. Calculate economic statistics using Numpy"
   ]
  },
  {
   "cell_type": "markdown",
   "id": "6ccac6b3",
   "metadata": {},
   "source": [
    "## 1.1 Libraries in Python\n",
    "\n",
    "Previously, we worked through the basic Python data structures - floats, integers, strings, lists, tuples, and dictionaries. These data structures are native to Python - i.e., they constitute the core of the programming language. But most economic work in Python involves **libraries**, which are additional tools and structures that are available to you and which allow you to tackle problems in a more advanced way. \n",
    "\n",
    "The issue with libraries is that, since they are not part of the core Python package, you will need to `import` them into your scripts/programs in order to use them. \n",
    "\n",
    "One of the most popular libraries is called \"Numpy\". We can import it as follows and start to work with it. Note that \"np\" is a standard convention for calling tools from this library."
   ]
  },
  {
   "cell_type": "code",
   "execution_count": null,
   "id": "b694b744",
   "metadata": {},
   "outputs": [],
   "source": [
    "import numpy as np"
   ]
  },
  {
   "cell_type": "markdown",
   "id": "86aa97a8",
   "metadata": {},
   "source": [
    "## 1.2 Import successful\n",
    "\n",
    "Once a library has been imported, you can use it by calling the label you applied, such as `np` from above."
   ]
  },
  {
   "cell_type": "code",
   "execution_count": null,
   "id": "3a22c55b",
   "metadata": {},
   "outputs": [],
   "source": [
    "x=[0.0, 1, 2, 3, 4]\n",
    "print('x is type ', type(x))\n",
    "\n",
    "y=np.array(x) # method for converting a list to a Numpy array\n",
    "print(y)\n",
    "print('y is type ', type(y))"
   ]
  },
  {
   "cell_type": "markdown",
   "id": "7ed3828a",
   "metadata": {},
   "source": [
    "# 2. Getting started with Numpy - the array data type\n",
    "\n",
    "We converted the list `x` into a Numpy array by using `np.array()`. Notice that the data in this form have a different `type` - it is now type 'numpy.ndarray', where 'ndarray' stands for N-dimensional array. You can think of an array as a matrix.\n",
    "\n",
    "Whenever you want to use a Numpy function or method, you will need to preface it with `np`. \n",
    "\n",
    "Converting the list to a new data type, an `ndarray`,  seems pointless at first - **why not just keep it as a list**? We have functions like `sum()` and `len()` which we used on lists last time, and there are others as well such as `sort()`. \n",
    "\n",
    "Of course, converting the list to a Numpy array is *not* pointless - it opens up all sorts of functions that are in Numpy but which are not part of the standard Python library's data structures.\n",
    "\n",
    "It also allows us to give a little bit more shape or structure to our data containers:"
   ]
  },
  {
   "cell_type": "code",
   "execution_count": null,
   "id": "35770eee",
   "metadata": {},
   "outputs": [],
   "source": [
    "x=[[1.0], [2.0], [3.0], [4.0], [5.0]]\n",
    "print(x)\n",
    "\n",
    "y=np.array(x)\n",
    "print(y)\n",
    "\n",
    "print('shape (rows, columns): ', np.shape(y))\n",
    "print(type(np.shape(y)))"
   ]
  },
  {
   "cell_type": "markdown",
   "id": "7825b116",
   "metadata": {},
   "source": [
    "## 2.1 Try it yourself: create a list\n",
    "\n",
    "Suppose you have a sample of wages 10.52, 21.45, 51.78, 70.12, 89.83. Do the following: \n",
    "\n",
    "1. Create a list object from these data\n",
    "1. Convert the list object into a Numpy `ndarray` type"
   ]
  },
  {
   "cell_type": "code",
   "execution_count": null,
   "id": "e3fb4e76",
   "metadata": {},
   "outputs": [],
   "source": [
    "#Try it yourself. Write your code below:\n",
    "\n"
   ]
  },
  {
   "cell_type": "markdown",
   "id": "b74e7078",
   "metadata": {},
   "source": [
    "## 2.2 Arrays as matrices and data structures\n",
    "\n",
    "As you can see in the above example, converting to a Numpy array gives some \"shape\" to our list. That is a simple 5x1 matrix, but you can see how useful it could be in more advanced applications, especially involving linear algebra. Here is a representation of a 2x2 matrix as well as other common matrix types:"
   ]
  },
  {
   "cell_type": "code",
   "execution_count": null,
   "id": "e892401d",
   "metadata": {},
   "outputs": [],
   "source": [
    "x=[[1,3], [2,5]]\n",
    "y=np.array(x)\n",
    "\n",
    "print(y)\n",
    "print(np.shape(y))"
   ]
  },
  {
   "cell_type": "code",
   "execution_count": null,
   "id": "c640f310",
   "metadata": {},
   "outputs": [],
   "source": [
    "x=[[-4,2,1,0], [-8,1,0,0], [8, -3,-3,0]]\n",
    "y=np.array(x)\n",
    "\n",
    "print(y)\n",
    "print(np.shape(y))"
   ]
  },
  {
   "cell_type": "code",
   "execution_count": null,
   "id": "e4bee743",
   "metadata": {},
   "outputs": [],
   "source": [
    "wage_lq=np.array([[1342., 0.91], [732.,0.14],[793.,0.76],[977.,0.97],[840.,0.96],\n",
    "                  [1084.,0.85],[1280.,0.93],[694.,0.75],[955.,0.76],[995.,0.95]])\n",
    "print(wage_lq)\n",
    "print(np.shape(wage_lq))\n",
    "print('rows: ', np.shape(wage_lq)[0])\n",
    "print('columns: ', np.shape(wage_lq)[1])"
   ]
  },
  {
   "cell_type": "markdown",
   "id": "ce9a76a2",
   "metadata": {},
   "source": [
    "## 2.3 Try it yourself: create a simple economic dataset\n",
    "\n",
    "Use the following data and do the following:\n",
    "\n",
    "1. Create a Numpy array with two columns of data. First column includes the County name and the second column includes the unemployment rate\n",
    "1. **Each row should have a new county associated with it**\n",
    "\n",
    "Los Angeles: 4.5 <br>\n",
    "Riverside: 4.2 <br>\n",
    "San Bernardino: 4.1 <br>\n",
    "San Luis Obispo: 2.8 <br>\n",
    "Santa Barbara: 3.2 <br>\n",
    "Ventura: 3.7 <br>\n",
    "Kern: 6.8 <br>\n",
    "Orange: 3.0 <br>\n",
    "San Diego: 3.3 <br>\n",
    "Imperial: 16.7"
   ]
  },
  {
   "cell_type": "code",
   "execution_count": null,
   "id": "b3b1740a",
   "metadata": {},
   "outputs": [],
   "source": [
    "#Try it yourself. Write your code below:\n",
    "\n"
   ]
  },
  {
   "cell_type": "markdown",
   "id": "8e2b8623",
   "metadata": {},
   "source": [
    "# 3. Accessing information from an array using slices\n",
    "\n",
    "For economics and statistics, Numpy has many other useful features. Let's start with a random 4x4 matrix and explore how to access elements from it:"
   ]
  },
  {
   "cell_type": "code",
   "execution_count": null,
   "id": "1f1a8f32",
   "metadata": {},
   "outputs": [],
   "source": [
    "np.random.seed(92407) # I set the seed to make exposition clearer: \n",
    "\n",
    "x=np.random.randint(1, 10, (4,4))\n",
    "print(x)"
   ]
  },
  {
   "cell_type": "markdown",
   "id": "e994c1df",
   "metadata": {},
   "source": [
    "We can access rows and columns of this array in an easy way using the basics of slicing and indexing which we saw first in the previous tutorial - with a small twist:"
   ]
  },
  {
   "cell_type": "code",
   "execution_count": null,
   "id": "625d6908",
   "metadata": {},
   "outputs": [],
   "source": [
    "print('First row of x: ', x[0,:]) # Entire first row\n",
    "print('Second row of x: ', x[1,:]) # Entire second row\n",
    "print('First and second rows of x: \\n', x[0:2,:]) # Entire first and second row\n",
    "print('Fourth (i.e., final) column of x: ', x[:,3]) # Entire 4th column\n",
    "print('Final column of x: ', x[:,-1])\n",
    "\n",
    "print('Third element of the third row: ', x[2,2])\n",
    "print('Third element of the third row: ', x[2][2]) #This way of \"slicing\" might be more or less intuitive - use whatever works!"
   ]
  },
  {
   "cell_type": "markdown",
   "id": "c4120acc",
   "metadata": {},
   "source": [
    "**The \"twist\":** instead of the somewhat clunky `x[a][b]` notation to denote the index positions of the outer and inner lists as we might do for a `list` type, Numpy `ndarray` types allow use of the more intuitive `x[a,b]` notation."
   ]
  },
  {
   "cell_type": "markdown",
   "id": "a9e52a29",
   "metadata": {},
   "source": [
    "Going back to our wage_lq array,, which is a small sample of 10 counties' average weekly wages (column 0) and employment location quotients in the logistics industry (column 1), let's access the columns and some individual rows:"
   ]
  },
  {
   "cell_type": "code",
   "execution_count": null,
   "id": "82d8d87e",
   "metadata": {},
   "outputs": [],
   "source": [
    "wage_lq=np.array([[1342., 0.91], [732.,0.14],[793.,0.76],[977.,0.97],[840.,0.96],\n",
    "                  [1084.,0.85],[1280.,0.93],[694.,0.75],[955.,0.76],[995.,0.95]])\n",
    "print(wage_lq)\n",
    "\n",
    "print(wage_lq[:,0]) # average weekly wage\n",
    "print(wage_lq[:,1]) # location quotient\n",
    "print(wage_lq[3,:]) # average and weekly wage from the 4th location in the dataset"
   ]
  },
  {
   "cell_type": "markdown",
   "id": "1cd5fc44",
   "metadata": {},
   "source": [
    "## 3.1 Try it yourself: slicing Numpy arrays\n",
    "\n",
    "Using the array in the next cell, write code to find the following:\n",
    "\n",
    "1. Print the 6th row\n",
    "1. Print the 3rd column\n",
    "1. Print the 3rd element of the 2nd column\n",
    "1. Print the last row (hint: recall the position of a \"last\" element is `-1` in Python)\n",
    "1. Print the last element of the last column (see above hint)"
   ]
  },
  {
   "cell_type": "code",
   "execution_count": null,
   "id": "b0826744",
   "metadata": {},
   "outputs": [],
   "source": [
    "np.random.seed(92407)\n",
    "tryit=np.random.randint(400, 600, (8,5))\n",
    "print(tryit)\n",
    "\n",
    "#Try it yourself. Write your code below to answer 1-5:\n",
    "\n"
   ]
  },
  {
   "cell_type": "markdown",
   "id": "2d01e705",
   "metadata": {},
   "source": [
    "## 3.2 Altering datasets and making copies\n",
    "\n",
    "Sometimes it's useful to make a copy of a dataset and work with it, or add a column or row of data. While you can do this with list methods, it's easier to use Numpy methods."
   ]
  },
  {
   "cell_type": "code",
   "execution_count": null,
   "id": "7e104ba5",
   "metadata": {},
   "outputs": [],
   "source": [
    "np.random.seed(92407)\n",
    "x=np.random.randint(1,20,(5,7))\n",
    "print(x)\n",
    "\n",
    "new_row=np.ones((1,7)) #Remember to enclose the shape as a tuple\n",
    "\n",
    "y=np.append(x,new_row, axis=0) #Make sure to set the axis (0 for appending a row, 1 for appending a column)\n",
    "print(y)\n",
    "\n",
    "new_column=np.ones((5,1))\n",
    "\n",
    "z=np.append(x, new_column, axis=1) \n",
    "print(z)"
   ]
  },
  {
   "cell_type": "markdown",
   "id": "0af273e3",
   "metadata": {},
   "source": [
    "What about a copy of a dataset? Making a copy can be dangerous if it's not a **deep copy**, because then, making a change to a copy can also change the original dataset. When you're handling copies, make sure to use the `.copy()` method, which is built in Numpy to refer to a deep copy: "
   ]
  },
  {
   "cell_type": "code",
   "execution_count": null,
   "id": "581b561b",
   "metadata": {},
   "outputs": [],
   "source": [
    "np.random.seed(359)\n",
    "a=np.random.randint(1,20,(2,4))\n",
    "print(a)\n",
    "\n",
    "b=a\n",
    "\n",
    "b[0,0]=100\n",
    "\n",
    "print('b:', b)\n",
    "print('a:', a)\n",
    "\n",
    "print(\"\\n\\nOh! That wasn't supposed to happen.\")\n",
    "print(\"The first element of the first row/column of was supposed to change to 100, but the first row/column of a was not supposed to change.\")\n",
    "print(\"Let's try that again: \\n\\n\")\n",
    "\n",
    "a=np.random.randint(1,20,(2,4))\n",
    "\n",
    "b=np.copy(a)\n",
    "\n",
    "b[0,0]=100\n",
    "\n",
    "print(b)\n",
    "print(a)\n",
    "\n",
    "print(\"Better.\")"
   ]
  },
  {
   "cell_type": "markdown",
   "id": "3de00f69",
   "metadata": {},
   "source": [
    "## 3.3 Try it yourself: append a row of ones\n",
    "\n",
    "Use the `tryit` object defined earlier and add a column of ones to it:"
   ]
  },
  {
   "cell_type": "code",
   "execution_count": null,
   "id": "0ed0d882",
   "metadata": {},
   "outputs": [],
   "source": [
    "np.random.seed(92407)\n",
    "tryit=np.random.randint(400, 600, (8,5))\n",
    "print(tryit)\n",
    "\n",
    "new_column=np.ones((8,1))\n",
    "\n",
    "#Write code to add this new column to our dataset:\n"
   ]
  },
  {
   "cell_type": "markdown",
   "id": "40e3e853",
   "metadata": {},
   "source": [
    "# 4.Mathematical and statistical functions in Numpy\n",
    "\n",
    "As mentioned earlier, Numpy is an advanced library for handling data. We can perform many mathematical and statistical operations on arrays using Numpy functions/methods. Here are some using the random integer dataset generated earlier:"
   ]
  },
  {
   "cell_type": "code",
   "execution_count": null,
   "id": "7875e760",
   "metadata": {},
   "outputs": [],
   "source": [
    "x=np.random.normal(0,4,(3,5)) #mean (=0) and standard deviation (=4) specified as well as shape\n",
    "print(x)\n",
    "print(np.sum(x[:, 1])) # Sum of the elements in the 2nd column\n",
    "print(np.max(x[:, 3])) # Maximum value of the elements in the 4th column\n",
    "print(np.std(x[:, 2])) # Standard deviation of the elements in the 3rd column\n",
    "print(np.mean(x[:, 1])) #Mean of the elements of the 2nd column\n",
    "print(np.median(x[:, 1])) #Median of the elements of the 2nd column\n",
    "\n",
    "print(np.corrcoef(x, rowvar=False)) # rowvar=False tells Numpy to correlate columns, not rows\n",
    "print(np.corrcoef(x, rowvar=False)[1,2]) #extracts correlation coeff. between the 2nd (index pos = 1) and 3rd (pos = 2) columns\n",
    "print(np.corrcoef(x, rowvar=False)[2,1]) #correlation between 3rd and 2nd; should be same as above\n",
    "print(np.corrcoef(x, rowvar=False)[2,3]) #correlation coeff. between 3rd and 4th columns"
   ]
  },
  {
   "cell_type": "markdown",
   "id": "fcfd7a86",
   "metadata": {},
   "source": [
    "## 4.1 Try it yourself: Calculate mean, medians, and correlations with the wage-location quotient data\n",
    "\n",
    "Using the example above, take \"wage_lq\" and do the following tasks:\n",
    "\n",
    "1. Calculate average of the average weekly wage (column 1)\n",
    "1. Calculate the average location quotient (column 2)\n",
    "1. Calculate the correlation between the two columns"
   ]
  },
  {
   "cell_type": "code",
   "execution_count": null,
   "id": "bd3d8bce",
   "metadata": {},
   "outputs": [],
   "source": [
    "wage_lq=np.array([[1342., 0.91], [732.,0.14],[793.,0.76],[977.,0.97],[840.,0.96],\n",
    "                  [1084.,0.85],[1280.,0.93],[694.,0.75],[955.,0.76],[995.,0.95]])\n",
    "\n",
    "# Try it yourself: print your code for 1-3 below:\n",
    "\n"
   ]
  },
  {
   "cell_type": "markdown",
   "id": "85684e30",
   "metadata": {},
   "source": [
    "## Summary\n",
    "\n",
    "Numpy significantly advances our understanding of the importance of arrays as structures for economic data. Indeed, the (even more) advanced libraries we will use in later modules are ultimately based on the Numpy `ndarray` type. Having a thorough understanding of Numpy is therefore critical for later modules. "
   ]
  }
 ],
 "metadata": {
  "kernelspec": {
   "display_name": "Python 3 (ipykernel)",
   "language": "python",
   "name": "python3"
  },
  "language_info": {
   "codemirror_mode": {
    "name": "ipython",
    "version": 3
   },
   "file_extension": ".py",
   "mimetype": "text/x-python",
   "name": "python",
   "nbconvert_exporter": "python",
   "pygments_lexer": "ipython3",
   "version": "3.9.16"
  }
 },
 "nbformat": 4,
 "nbformat_minor": 5
}
