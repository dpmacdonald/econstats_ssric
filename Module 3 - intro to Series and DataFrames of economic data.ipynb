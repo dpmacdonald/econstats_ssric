{
 "cells": [
  {
   "cell_type": "markdown",
   "id": "8643b95f",
   "metadata": {},
   "source": [
    "# 1. Introduction: Series and DataFrames of economic data\n",
    "\n",
    "Welcome to the SSRIC Instructional Modules for the project, \"Teaching Statistics and Economic Data Analysis in Python with Jupyter Notebooks\", by Daniel MacDonald, Associate Professor and Chair, Economics Department, CSU San Bernardino. These were written in Summer 2023.\n",
    "\n",
    "Most of the modules draw extensively on Kevin Sheppard's e-book, *Introduction to Python for Econometrics, Statistics, and Data Analysis*, available here: https://bashtage.github.io/kevinsheppard.com/files/teaching/python/notes/python_introduction_2021.pdf. \n",
    "\n",
    "Rather than begin instruction in Python through the core tools of computer programming (such as conditions, loops, and functions), Sheppard begins with Python's major \"containers\", or data structures. Through practice, I have learned that this is an effective method for teaching Python to economics majors.\n",
    "\n",
    "The learning objectives of this set of Instructional Modules are as follows. By the end of these modules, students will be able to...\n",
    "\n",
    "1. Create data structures in Python based on economic data\n",
    "1. Summarize the statistical properties of economic data (median, mean, max, min, correlation) using Python\n",
    "1. Create and manage economic data: create new columns and rows, merge and append, and import data from .csv and .xlsx files into Python\n",
    "1. Visualize economic data using line and scatterplots\n",
    "\n",
    "The objectives/content of Module 3 are as follows. By the end of this module, students will be able to...\n",
    "\n",
    "1. Build economic data from Padas `Series` and `DataFrame` types\n",
    "1. Use different methods to create \"views\" or \"slice\" economic data in Pandas datatypes\n",
    "1. Calculating basic statistics on economic data using Pandas methods and functions"
   ]
  },
  {
   "cell_type": "code",
   "execution_count": null,
   "id": "be521cd3",
   "metadata": {},
   "outputs": [],
   "source": [
    "import numpy as np\n",
    "import pandas as pd"
   ]
  },
  {
   "cell_type": "markdown",
   "id": "3bc01167",
   "metadata": {},
   "source": [
    "## 1.1 Importing Pandas\n",
    "\n",
    "Just as we did with Numpy in a previous lecture, we need to import the pandas library in order to use it. We can then begin \"panda-fy\" our arrays just as we did when we converted `list`'s into Numpy `ndarrays`: "
   ]
  },
  {
   "cell_type": "code",
   "execution_count": null,
   "id": "6c2c02fa",
   "metadata": {},
   "outputs": [],
   "source": [
    "print('A Numpy array type: \\n')\n",
    "\n",
    "a=np.array([1.,2.,6.,-1.])\n",
    "print(a)\n",
    "print(type(a))\n",
    "\n",
    "print('\\nA Pandas series type: \\n')\n",
    "\n",
    "series=pd.Series(a)\n",
    "print(series)\n",
    "print(type(series))"
   ]
  },
  {
   "cell_type": "markdown",
   "id": "4207f50c",
   "metadata": {},
   "source": [
    "## 1.2 Try it yourself: create a `series` based on a Numpy array\n",
    "\n",
    "In the cell below, a Numpy array has been generated for you. Take the array and convert it into a Pandas `series` type using the code above:"
   ]
  },
  {
   "cell_type": "code",
   "execution_count": null,
   "id": "be31436e",
   "metadata": {},
   "outputs": [],
   "source": [
    "np.random.seed(92407)\n",
    "x=np.random.randint(50,100,7)\n",
    "print(x)\n",
    "\n",
    "#Convert x into a Pandas series-type and print it below:\n",
    "\n"
   ]
  },
  {
   "cell_type": "markdown",
   "id": "da61d132",
   "metadata": {},
   "source": [
    "# 2. The Pandas `series` type: it's about the structure\n",
    "\n",
    "After printing the \"try it yourself\" example above, you should notice two things about the `series` format:\n",
    "\n",
    "1. The `series` type, which is like a spreadsheet with 1 column, *automatically* converts your data into a column format\n",
    "1. There is an index (similar to \"row number\" in Excel, but as we will see, even more flexible than that)\n",
    "\n",
    "Pandas is all about giving additional structure to your data, which is why these two elements are so crucial.\n",
    "\n",
    "## 2.1 More \"try it yourself\"\n",
    "\n",
    "After seeing the examples below, try it yourself to access \n",
    "\n",
    "1. The second of the series **x** generated above \n",
    "1. Last row of the series **x** generated above\n",
    "1. Print the total number of observations in the series (hint: how do you count the number of elements in a list, or characters in a string?)"
   ]
  },
  {
   "cell_type": "code",
   "execution_count": null,
   "id": "b90507c2",
   "metadata": {},
   "outputs": [],
   "source": [
    "print('First element/row of series: ', series[0])\n",
    "print('Third element/row of series: ', series[2])"
   ]
  },
  {
   "cell_type": "code",
   "execution_count": null,
   "id": "efc7c648",
   "metadata": {},
   "outputs": [],
   "source": [
    "# Try it yourself.\n",
    "\n"
   ]
  },
  {
   "cell_type": "markdown",
   "id": "76f1c988",
   "metadata": {},
   "source": [
    "## 2.2 Indexes\n",
    "\n",
    "For example, indexes can be other things aside from numeric type. See below:"
   ]
  },
  {
   "cell_type": "code",
   "execution_count": null,
   "id": "a9b0c98d",
   "metadata": {},
   "outputs": [],
   "source": [
    "wage=pd.Series([30.8, 20.1, 44.0, 83.2, 25.6], index=['Bob', 'Ana', 'John', 'Belen', 'Alexis'])\n",
    "print(wage)\n",
    "print(\"Ana's wage:\", wage['Ana'])"
   ]
  },
  {
   "cell_type": "markdown",
   "id": "370962ee",
   "metadata": {},
   "source": [
    "## 2.3 Try it yourself: create a Pandas series with informative indexes\n",
    "\n",
    "Create a `series` type from the unemployment rate data below. The index should be the County name, and the column of data refers to the unemployment rates. **Each row should have a new county associated with it**:\n",
    "\n",
    "Los Angeles: 4.5 <br>\n",
    "Riverside: 4.2 <br>\n",
    "San Bernardino: 4.1 <br>\n",
    "Orange: 3.0 <br>\n",
    "San Diego: 3.3 <br>\n",
    "Imperial: 16.7"
   ]
  },
  {
   "cell_type": "code",
   "execution_count": null,
   "id": "42d303b3",
   "metadata": {},
   "outputs": [],
   "source": [
    "#Try it yourself. Add your code below:\n",
    "\n"
   ]
  },
  {
   "cell_type": "markdown",
   "id": "0dee1000",
   "metadata": {},
   "source": [
    "# 3. Operations on series\n",
    "\n",
    "You can square/divide series, convert to percentages, and perform many other mathematical operations on the series type. Note that while you can also do this in Numpy, the benefit of Pandas is - again, the *structure* it gives to your data:"
   ]
  },
  {
   "cell_type": "code",
   "execution_count": null,
   "id": "7699902b",
   "metadata": {},
   "outputs": [],
   "source": [
    "x=pd.Series(np.random.randint(1,10,5))\n",
    "print(x)\n",
    "y=x**2\n",
    "print(y)\n",
    "y[0]=100\n",
    "print(y)\n",
    "print(x) # Notice that pandas automatically creates \"deep\" copies - so x is not affected by y[0]=100"
   ]
  },
  {
   "cell_type": "code",
   "execution_count": null,
   "id": "3e8141a9",
   "metadata": {},
   "outputs": [],
   "source": [
    "print(x.mean())\n",
    "print(x.sum()/x.count())\n",
    "print('Maximum value in x:', x.max())\n",
    "print('Minimum value in x: {}'.format(x.min()))\n",
    "print(round(x.std(),2)) #Standard deviation rounded to 2 decimal places"
   ]
  },
  {
   "cell_type": "code",
   "execution_count": null,
   "id": "1c68a64f",
   "metadata": {},
   "outputs": [],
   "source": [
    "print(x)\n",
    "y=x/x.sum() # Just imagine that x is a series of frequencies and you want to convert it to a probability distribution...\n",
    "print(y)\n",
    "print(np.round(y,3)) #When you want to round an entire array, use `np.round` instead of `round()` (used above)"
   ]
  },
  {
   "cell_type": "markdown",
   "id": "e819eb4d",
   "metadata": {},
   "source": [
    "## 3.1 Try it yourself: compute summary stats for So Cal counties"
   ]
  },
  {
   "cell_type": "code",
   "execution_count": null,
   "id": "9e0fa279",
   "metadata": {},
   "outputs": [],
   "source": [
    "socal_counties=pd.Series([4.5, 4.2, 4.1, 2.8, 3.2, 3.7, 6.8, 3.0, 3.3, 16.7], index=['Los Angeles', 'Riverside',\n",
    "                                                                                    'San Bernardino', 'San Luis Obispo',\n",
    "                                                                                    'Santa Barbara', 'Ventura', 'Kern',\n",
    "                                                                                    'Orange', 'San Diego', 'Imperial'])\n",
    "print(socal_counties)\n",
    "#Try it yourself: using the above Series...\n",
    "#...write two lines of code - one that prints the minimum SoCal unemployment rate, and one that prints the maximum:\n",
    "\n"
   ]
  },
  {
   "cell_type": "markdown",
   "id": "10d1bb5f",
   "metadata": {},
   "source": [
    "## 3.2 Use `describe()` for other summary statistics\n",
    "\n",
    "While you can pull a range of summary statistics in pandas, you can also simply `describe` the series, which will produce its own series of useful information. `describe` is another example of a method that we can perform on our objects:"
   ]
  },
  {
   "cell_type": "code",
   "execution_count": null,
   "id": "383ce8ca",
   "metadata": {},
   "outputs": [],
   "source": [
    "print(socal_counties.describe())\n",
    "\n",
    "described=socal_counties.describe()\n",
    "print('\\n\\nAverage:', described['mean'])"
   ]
  },
  {
   "cell_type": "markdown",
   "id": "ef9da75a",
   "metadata": {},
   "source": [
    "## 3.3 A reminder to use the directory\n",
    "\n",
    "If you ever want to see the full range of things you can do to an object like a `Series`, you can use the `dir` command. This is especially useful when you're starting to learn your way around the programming language. If you want to see everytihng you can do with a Pandas Series object, run the line of code below:"
   ]
  },
  {
   "cell_type": "code",
   "execution_count": null,
   "id": "6f246736",
   "metadata": {},
   "outputs": [],
   "source": [
    "print(dir(socal_counties))"
   ]
  },
  {
   "cell_type": "markdown",
   "id": "c2b49e77",
   "metadata": {},
   "source": [
    "# 4. `DataFrame` type\n",
    "\n",
    "Now that we've seen a bit of what a `Series` type can do, we can now consider the DataFrame. DataFrames are essentially multiple columns of data but which have the same structural benefits of the series, such as indexing.\n",
    "\n",
    "The above code creates an 8x3 Numpy array. It then converts that array into a DataFrame and gives it some basic column names:"
   ]
  },
  {
   "cell_type": "code",
   "execution_count": null,
   "id": "4026d7c3",
   "metadata": {},
   "outputs": [],
   "source": [
    "np.random.seed(92407)\n",
    "df=pd.DataFrame(np.random.randint(30,60,(8,3)), columns=['a', 'b', 'c']) # 8 rows, 3 columns, with column names\n",
    "print(df)"
   ]
  },
  {
   "cell_type": "markdown",
   "id": "77b01aae",
   "metadata": {},
   "source": [
    "## 4.1 Try it yourself\n",
    "\n",
    "Take the Numpy array below and...\n",
    "\n",
    "1. Convert it into a DataFrame\n",
    "1. Label the columns `weekly_wage` and `loc_q` respectively\n",
    "1. Print the DataFrame"
   ]
  },
  {
   "cell_type": "code",
   "execution_count": null,
   "id": "ca3b3491",
   "metadata": {},
   "outputs": [],
   "source": [
    "wage_lq=np.array([[1342., 0.91], [732.,0.14],[793.,0.76],[977.,0.97],[840.,0.96],\n",
    "                  [1084.,0.85],[1280.,0.93],[694.,0.75],[955.,0.76],[995.,0.95]])\n",
    "print(wage_lq)\n",
    "\n",
    "#Try it yourself. Write your code below:\n",
    "\n"
   ]
  },
  {
   "cell_type": "markdown",
   "id": "22b02f3d",
   "metadata": {},
   "source": [
    "## 4.2 Learning about your `DataFrame`\n",
    "\n",
    "As you can see, DataFrames are a \"step up\" from the `Series` type and, indeed, we will have less need of the series now that we have the DataFrame. \n",
    "\n",
    "You can do many things and access much information with the DataFrame:"
   ]
  },
  {
   "cell_type": "code",
   "execution_count": null,
   "id": "d7338b3e",
   "metadata": {},
   "outputs": [],
   "source": [
    "print(df.columns)"
   ]
  },
  {
   "cell_type": "code",
   "execution_count": null,
   "id": "2c4ccbb6",
   "metadata": {},
   "outputs": [],
   "source": [
    "print(df)\n",
    "print(df['a'])"
   ]
  },
  {
   "cell_type": "code",
   "execution_count": null,
   "id": "d3770fc9",
   "metadata": {},
   "outputs": [],
   "source": [
    "print(df[['a', 'c']]) #When you want to print more than one column, enclose all column names in square brackets (as in a list)"
   ]
  },
  {
   "cell_type": "code",
   "execution_count": null,
   "id": "58543ed7",
   "metadata": {},
   "outputs": [],
   "source": [
    "print(df)\n",
    "print(df.iloc[4]) #prints rows based on the index value"
   ]
  },
  {
   "cell_type": "code",
   "execution_count": null,
   "id": "78531850",
   "metadata": {},
   "outputs": [],
   "source": [
    "print(df.describe())"
   ]
  },
  {
   "cell_type": "code",
   "execution_count": null,
   "id": "1072ddc3",
   "metadata": {},
   "outputs": [],
   "source": [
    "df.columns=['col 1', 'col 2', 'col 3'] #Renames your columns. There are other ways to do this!\n",
    "print(df)"
   ]
  },
  {
   "cell_type": "markdown",
   "id": "9a704dac",
   "metadata": {},
   "source": [
    "## 4.3 Try it yourself: add an index\n",
    "\n",
    "Indexes are added to DataFrames just as they are to series. Add the names of the counties to the `wage_lq` DataFrame we generated above:"
   ]
  },
  {
   "cell_type": "code",
   "execution_count": null,
   "id": "eeed8ada",
   "metadata": {},
   "outputs": [],
   "source": [
    "counties = ['Alameda', 'Alpine', 'Amador', 'Butte', 'Calaveras', 'Colusa', 'Contra Costa', 'Del Norte', 'El Dorado', 'Fresno']\n",
    "\n",
    "\n",
    "wage_lq=np.array([[1342., 0.91], [732.,0.14],[793.,0.76],[977.,0.97],[840.,0.96],\n",
    "                  [1084.,0.85],[1280.,0.93],[694.,0.75],[955.,0.76],[995.,0.95]])\n",
    "\n",
    "#Try it yourself. Create a dataframe from the above and add an index based on the list of counties provided:\n",
    "\n"
   ]
  },
  {
   "cell_type": "markdown",
   "id": "5b1b4e38",
   "metadata": {},
   "source": [
    "## 4.4 Slicing dataframes by index values\n",
    "\n",
    "Notice that the below code also uses a different format to input the DataFrame. We define the data as a `dict` type, where each key of the dictionary refers to a column.\n",
    "\n",
    "You might have noticed earlier that we could \"call\" a column using `df['column name']` - this is kind of like how you'd call all the items associated with a particular dictionary key. The syntax for the Pandas DataFrame is very similar."
   ]
  },
  {
   "cell_type": "code",
   "execution_count": null,
   "id": "b549961b",
   "metadata": {},
   "outputs": [],
   "source": [
    "unemployment=pd.DataFrame({'state': ['California', 'California', 'Oregon', 'Oregon', 'Arizona'], \n",
    "                         'year': [2021, 2022, 2021, 2022, 2022],\n",
    "                         'urate': [5.8, 4.1, 4.2, 4.5, 4.0]})\n",
    "unemployment.set_index('state', inplace=True)\n",
    "print(unemployment)"
   ]
  },
  {
   "cell_type": "code",
   "execution_count": null,
   "id": "ff3e1506",
   "metadata": {},
   "outputs": [],
   "source": [
    "#print(unemployment.iloc['California']) # This will not work. 'iloc' uses index position (i.e., 0, 1, 2, etc.) not values\n",
    "print(unemployment.loc['California'])\n",
    "print(unemployment.loc['Oregon'])"
   ]
  },
  {
   "cell_type": "code",
   "execution_count": null,
   "id": "518b01eb",
   "metadata": {},
   "outputs": [],
   "source": [
    "#If you only want a specific column of data, you can refer to that and then access by .loc:\n",
    "\n",
    "print(unemployment['urate'].loc['California'])\n",
    "print('\\n\\n', unemployment[['year', 'urate']].loc['Oregon'])"
   ]
  },
  {
   "cell_type": "markdown",
   "id": "4f41a7b1",
   "metadata": {},
   "source": [
    "## 4.5 Try it yourself: wage/location quotient dataset\n",
    "\n",
    "Do the following tasks with the wage/location quotient dataset you created earlier (created for you below):\n",
    "\n",
    "1. Summarize (`describe`) the dataset \n",
    "1. Print the \"weekly_wage\" column only\n",
    "1. Print all information for Fresno County\n",
    "1. Print the location quotient only, for Alameda County\n",
    "1. Print all information for both Fresno and Amador Counties. (Challenge - Hint: similar to accessing information on two columns at once)"
   ]
  },
  {
   "cell_type": "code",
   "execution_count": null,
   "id": "39533f36",
   "metadata": {},
   "outputs": [],
   "source": [
    "wage_lq=np.array([[1342., 0.91], [732.,0.14],[793.,0.76],[977.,0.97],[840.,0.96],\n",
    "                  [1084.,0.85],[1280.,0.93],[694.,0.75],[955.,0.76],[995.,0.95]])\n",
    "counties = ['Alameda', 'Alpine', 'Amador', 'Butte', 'Calaveras', 'Colusa', 'Contra Costa', 'Del Norte', 'El Dorado', 'Fresno']\n",
    "\n",
    "df_wage_lq=pd.DataFrame(wage_lq, columns=['weekly_wage', 'loc_q'], index=counties)\n",
    "print(df_wage_lq)\n",
    "\n",
    "#Try it yourself: do the tasks 1-5 assigned above with this dataset\n",
    "\n"
   ]
  }
 ],
 "metadata": {
  "kernelspec": {
   "display_name": "Python 3 (ipykernel)",
   "language": "python",
   "name": "python3"
  },
  "language_info": {
   "codemirror_mode": {
    "name": "ipython",
    "version": 3
   },
   "file_extension": ".py",
   "mimetype": "text/x-python",
   "name": "python",
   "nbconvert_exporter": "python",
   "pygments_lexer": "ipython3",
   "version": "3.9.16"
  }
 },
 "nbformat": 4,
 "nbformat_minor": 5
}
